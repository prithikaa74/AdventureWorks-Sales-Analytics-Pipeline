{
 "cells": [
  {
   "cell_type": "code",
   "execution_count": 0,
   "metadata": {
    "application/vnd.databricks.v1+cell": {
     "cellMetadata": {
      "byteLimit": 2048000,
      "rowLimit": 10000
     },
     "inputWidgets": {},
     "nuid": "70c61c69-123e-475d-b6ee-1ed85ccae255",
     "showTitle": false,
     "tableResultSettingsMap": {},
     "title": ""
    }
   },
   "outputs": [
    {
     "output_type": "stream",
     "name": "stdout",
     "output_type": "stream",
     "text": [
      "+----------+----------+-----------------------+----------+---------+\n|OrderDate |ProductKey|ProductName            |TotalSales|NumOrders|\n+----------+----------+-----------------------+----------+---------+\n|2017-05-08|585       |Touring-3000 Blue, 44  |1484.7    |2        |\n|2016-10-18|570       |Touring-3000 Yellow, 54|1484.7    |2        |\n|2016-10-05|585       |Touring-3000 Blue, 44  |1484.7    |2        |\n|2016-09-25|585       |Touring-3000 Blue, 44  |1484.7    |2        |\n|2017-05-04|570       |Touring-3000 Yellow, 54|1484.7    |2        |\n|2016-10-14|570       |Touring-3000 Yellow, 54|1484.7    |2        |\n|2017-01-26|585       |Touring-3000 Blue, 44  |1484.7    |2        |\n|2016-11-15|570       |Touring-3000 Yellow, 54|1484.7    |2        |\n|2017-01-17|594       |Mountain-500 Silver, 48|1129.98   |2        |\n|2016-10-05|594       |Mountain-500 Silver, 48|1129.98   |2        |\n|2016-12-12|594       |Mountain-500 Silver, 48|1129.98   |2        |\n|2016-11-24|594       |Mountain-500 Silver, 48|1129.98   |2        |\n|2017-06-11|594       |Mountain-500 Silver, 48|1129.98   |2        |\n|2016-09-13|570       |Touring-3000 Yellow, 54|742.35    |1        |\n|2016-12-09|570       |Touring-3000 Yellow, 54|742.35    |1        |\n|2016-07-21|585       |Touring-3000 Blue, 44  |742.35    |1        |\n|2016-07-31|585       |Touring-3000 Blue, 44  |742.35    |1        |\n|2016-07-15|585       |Touring-3000 Blue, 44  |742.35    |1        |\n|2016-11-27|570       |Touring-3000 Yellow, 54|742.35    |1        |\n|2016-12-04|585       |Touring-3000 Blue, 44  |742.35    |1        |\n+----------+----------+-----------------------+----------+---------+\nonly showing top 20 rows\n"
     ]
    }
   ],
   "source": [
    "from pyspark.sql import SparkSession\n",
    "from pyspark.sql.functions import col, sum as spark_sum, count, desc\n",
    "from pyspark.sql.types import DateType, IntegerType, DoubleType, StringType\n",
    "\n",
    "\n",
    "spark = SparkSession.builder.appName(\"ETL_AdventureWorks\").getOrCreate()\n",
    "\n",
    "customers_df = spark.table(\"workspace.default.adventure_works_customers\")\n",
    "products_df  = spark.table(\"workspace.default.adventure_works_products\")\n",
    "returns_df   = spark.table(\"workspace.default.adventure_works_returns\")\n",
    "\n",
    "sales_2016_df = spark.table(\"workspace.default.adventure_works_sales_2016\")\n",
    "sales_2017_df = spark.table(\"workspace.default.adventure_works_sales_2017\")\n",
    "\n",
    "sales_df = sales_2016_df.unionByName(sales_2017_df)\n",
    "\n",
    "\n",
    "\n",
    "sales_products_df = sales_df.join(products_df, on=\"ProductKey\", how=\"inner\")\n",
    "\n",
    "final_df = sales_products_df.join(customers_df, on=\"CustomerKey\", how=\"inner\")\n",
    "\n",
    "final_df = final_df.join(returns_df.select(\"ProductKey\"), on=\"ProductKey\", how=\"left_anti\")\n",
    "\n",
    "daily_sales = (\n",
    "    final_df\n",
    "    .groupBy(\"OrderDate\", \"ProductKey\", \"ProductName\")\n",
    "    .agg(\n",
    "        spark_sum(col(\"OrderQuantity\") * col(\"ProductPrice\")).alias(\"TotalSales\"),\n",
    "        count(\"OrderNumber\").alias(\"NumOrders\")\n",
    "    )\n",
    "    .orderBy(desc(\"TotalSales\"))\n",
    ")\n",
    "\n",
    "\n",
    "daily_sales = (\n",
    "    daily_sales\n",
    "    .withColumn(\"OrderDate\", col(\"OrderDate\").cast(DateType()))\n",
    "    .withColumn(\"ProductKey\", col(\"ProductKey\").cast(IntegerType()))\n",
    "    .withColumn(\"ProductName\", col(\"ProductName\").cast(StringType()))\n",
    "    .withColumn(\"TotalSales\", col(\"TotalSales\").cast(DoubleType()))\n",
    "    .withColumn(\"NumOrders\", col(\"NumOrders\").cast(IntegerType()))\n",
    ")\n",
    "\n",
    "\n",
    "daily_sales.show(20, truncate=False)\n",
    "\n",
    "daily_sales.write.format(\"delta\") \\\n",
    "    .mode(\"overwrite\") \\\n",
    "    .option(\"overwriteSchema\", \"true\") \\\n",
    "    .saveAsTable(\"workspace.default.daily_sales\")\n"
   ]
  },
  {
   "cell_type": "code",
   "execution_count": 0,
   "metadata": {
    "application/vnd.databricks.v1+cell": {
     "cellMetadata": {
      "byteLimit": 2048000,
      "rowLimit": 10000
     },
     "inputWidgets": {},
     "nuid": "47e5c2fd-f5a8-48d6-b70f-a59432adbe97",
     "showTitle": false,
     "tableResultSettingsMap": {},
     "title": ""
    }
   },
   "outputs": [],
   "source": []
  }
 ],
 "metadata": {
  "application/vnd.databricks.v1+notebook": {
   "computePreferences": null,
   "dashboards": [],
   "environmentMetadata": {
    "base_environment": "",
    "environment_version": "3"
   },
   "inputWidgetPreferences": null,
   "language": "python",
   "notebookMetadata": {
    "pythonIndentUnit": 4
   },
   "notebookName": "Untitled Notebook 2025-09-18 15:56:37",
   "widgets": {}
  },
  "language_info": {
   "name": "python"
  }
 },
 "nbformat": 4,
 "nbformat_minor": 0
}